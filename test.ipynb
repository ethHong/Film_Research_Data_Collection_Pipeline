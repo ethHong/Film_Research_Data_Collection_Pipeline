{
 "cells": [
  {
   "cell_type": "code",
   "execution_count": 2,
   "id": "dbb8b908",
   "metadata": {},
   "outputs": [],
   "source": [
    "# Create sampled data for testing, by sampling movies\n",
    "\n",
    "import pandas as pd\n",
    "import numpy as np\n",
    "\n",
    "actors = pd.read_excel(\"data/Leading and Leading Ensemble Actor.xls\")\n",
    "directors = pd.read_excel(\"data/Director-Producer-Exec_Producer-Screenwriter.xlsx\")"
   ]
  },
  {
   "cell_type": "code",
   "execution_count": 4,
   "id": "cca110da",
   "metadata": {},
   "outputs": [
    {
     "data": {
      "text/plain": [
       "Index(['movie_odid', 'display_name', 'billing', 'person_odid', 'person',\n",
       "       'character', 'type'],\n",
       "      dtype='object')"
      ]
     },
     "execution_count": 4,
     "metadata": {},
     "output_type": "execute_result"
    }
   ],
   "source": [
    "actors.columns"
   ]
  },
  {
   "cell_type": "code",
   "execution_count": 21,
   "id": "1cda4c87",
   "metadata": {},
   "outputs": [],
   "source": [
    "movies_sample = actors.display_name.unique()[:10]"
   ]
  },
  {
   "cell_type": "code",
   "execution_count": 22,
   "id": "6eaae1e2",
   "metadata": {},
   "outputs": [],
   "source": [
    "actors_sampled = actors[actors.display_name.isin(movies_sample)]\n",
    "directors_sampled = directors[directors.display_name.isin(movies_sample)]"
   ]
  },
  {
   "cell_type": "code",
   "execution_count": 25,
   "id": "f266364f",
   "metadata": {},
   "outputs": [],
   "source": [
    "actors_sampled.to_excel(\n",
    "    \"data/SAMPLED_Leading and Leading Ensemble Actor.xlsx\", index=False\n",
    ")\n",
    "directors_sampled.to_excel(\n",
    "    \"data/SAMPLED_Director-Producer-Exec_Producer-Screenwriter_sampled.xlsx\",\n",
    "    index=False,\n",
    ")"
   ]
  },
  {
   "cell_type": "code",
   "execution_count": null,
   "id": "3211a36d",
   "metadata": {},
   "outputs": [],
   "source": []
  }
 ],
 "metadata": {
  "kernelspec": {
   "display_name": "base",
   "language": "python",
   "name": "python3"
  },
  "language_info": {
   "codemirror_mode": {
    "name": "ipython",
    "version": 3
   },
   "file_extension": ".py",
   "mimetype": "text/x-python",
   "name": "python",
   "nbconvert_exporter": "python",
   "pygments_lexer": "ipython3",
   "version": "3.12.4"
  }
 },
 "nbformat": 4,
 "nbformat_minor": 5
}
